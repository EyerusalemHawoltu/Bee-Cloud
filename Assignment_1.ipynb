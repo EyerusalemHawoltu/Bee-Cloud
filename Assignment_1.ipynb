{
  "nbformat": 4,
  "nbformat_minor": 0,
  "metadata": {
    "colab": {
      "provenance": []
    },
    "kernelspec": {
      "name": "python3",
      "display_name": "Python 3"
    },
    "language_info": {
      "name": "python"
    }
  },
  "cells": [
    {
      "cell_type": "code",
      "source": [
        "!pip install cairosvg"
      ],
      "metadata": {
        "colab": {
          "base_uri": "https://localhost:8080/"
        },
        "id": "JxuN57d3y8uF",
        "outputId": "d7f6f0d5-e026-4d98-fe68-9d548e3583cd"
      },
      "execution_count": 1,
      "outputs": [
        {
          "output_type": "stream",
          "name": "stdout",
          "text": [
            "Collecting cairosvg\n",
            "  Downloading CairoSVG-2.7.1-py3-none-any.whl.metadata (2.7 kB)\n",
            "Collecting cairocffi (from cairosvg)\n",
            "  Downloading cairocffi-1.7.1-py3-none-any.whl.metadata (3.3 kB)\n",
            "Collecting cssselect2 (from cairosvg)\n",
            "  Downloading cssselect2-0.7.0-py3-none-any.whl.metadata (2.9 kB)\n",
            "Requirement already satisfied: defusedxml in /usr/local/lib/python3.10/dist-packages (from cairosvg) (0.7.1)\n",
            "Requirement already satisfied: pillow in /usr/local/lib/python3.10/dist-packages (from cairosvg) (10.4.0)\n",
            "Requirement already satisfied: tinycss2 in /usr/local/lib/python3.10/dist-packages (from cairosvg) (1.3.0)\n",
            "Requirement already satisfied: cffi>=1.1.0 in /usr/local/lib/python3.10/dist-packages (from cairocffi->cairosvg) (1.17.1)\n",
            "Requirement already satisfied: webencodings in /usr/local/lib/python3.10/dist-packages (from cssselect2->cairosvg) (0.5.1)\n",
            "Requirement already satisfied: pycparser in /usr/local/lib/python3.10/dist-packages (from cffi>=1.1.0->cairocffi->cairosvg) (2.22)\n",
            "Downloading CairoSVG-2.7.1-py3-none-any.whl (43 kB)\n",
            "\u001b[2K   \u001b[90m━━━━━━━━━━━━━━━━━━━━━━━━━━━━━━━━━━━━━━━━\u001b[0m \u001b[32m43.2/43.2 kB\u001b[0m \u001b[31m622.3 kB/s\u001b[0m eta \u001b[36m0:00:00\u001b[0m\n",
            "\u001b[?25hDownloading cairocffi-1.7.1-py3-none-any.whl (75 kB)\n",
            "\u001b[2K   \u001b[90m━━━━━━━━━━━━━━━━━━━━━━━━━━━━━━━━━━━━━━━━\u001b[0m \u001b[32m75.6/75.6 kB\u001b[0m \u001b[31m3.4 MB/s\u001b[0m eta \u001b[36m0:00:00\u001b[0m\n",
            "\u001b[?25hDownloading cssselect2-0.7.0-py3-none-any.whl (15 kB)\n",
            "Installing collected packages: cssselect2, cairocffi, cairosvg\n",
            "Successfully installed cairocffi-1.7.1 cairosvg-2.7.1 cssselect2-0.7.0\n"
          ]
        }
      ]
    },
    {
      "cell_type": "code",
      "execution_count": 2,
      "metadata": {
        "colab": {
          "base_uri": "https://localhost:8080/"
        },
        "id": "abVt31Pry6jY",
        "outputId": "34c695a3-5a73-4469-cb67-9997b383df3f"
      },
      "outputs": [
        {
          "output_type": "stream",
          "name": "stdout",
          "text": [
            "Enter the URL to scrape: https://en.wikipedia.org/wiki/James_Arthur\n",
            "Scraping completed successfully.\n",
            "Word cloud generated successfully. b'<svg xmlns=\"http://www.w3.org/2000/svg\" width=\"600\" height=\"400\" font-family=\"serif\" text-anchor=\"middle\"><text font-size=\"133\" font-weight=\"normal\" transform=\"translate(313,194) rotate(-6.029934489662603)\" padding=\"2px\" fill=\"#f28400\">arthur</text><text font-size=\"87\" font-weight=\"normal\" transform=\"translate(439,247) rotate(3.663659289553287)\" padding=\"2px\" fill=\"#3d00f2\">james</text><text font-size=\"73\" font-weight=\"normal\" transform=\"translate(201,123) rotate(-13.555737004779518)\" padding=\"2px\" fill=\"#08f200\">retrieved</text><text font-size=\"48\" font-weight=\"normal\" transform=\"translate(373,291) rotate(-1.4883957763972333)\" padding=\"2px\" fill=\"#f2004f\">single</text><text font-size=\"47\" font-weight=\"normal\" transform=\"translate(152,284) rotate(17.28640410852975)\" padding=\"2px\" fill=\"#0096f2\">uk</text><text font-size=\"45\" font-weight=\"normal\" transform=\"translate(311,226) rotate(-10.409719241171755)\" padding=\"2px\" fill=\"#dcf200\">x</text><text font-size=\"44\" font-weight=\"normal\" transform=\"translate(242,240) rotate(-14.491954138305765)\" padding=\"2px\" fill=\"#c000f2\">factor</text><text font-size=\"42\" font-weight=\"normal\" transform=\"translate(414,106) rotate(-4.342448821585876)\" padding=\"2px\" fill=\"#00f27a\">october</text><text font-size=\"42\" font-weight=\"normal\" transform=\"translate(97,237) rotate(-11.428430347096334)\" padding=\"2px\" fill=\"#f23300\">album</text><text font-size=\"39\" font-weight=\"normal\" transform=\"translate(204,66) rotate(-6.444682996962747)\" padding=\"2px\" fill=\"#0013f2\">december</text><text font-size=\"38\" font-weight=\"normal\" transform=\"translate(417,68) rotate(-0.2747005568020384)\" padding=\"2px\" fill=\"#59f200\">november</text><text font-size=\"35\" font-weight=\"normal\" transform=\"translate(269,321) rotate(1.2559348523277158)\" padding=\"2px\" fill=\"#f200a0\">september</text><text font-size=\"35\" font-weight=\"normal\" transform=\"translate(116,190) rotate(-15.755157822380967)\" padding=\"2px\" fill=\"#00e7f2\">june</text><text font-size=\"35\" font-weight=\"normal\" transform=\"translate(108,332) rotate(-10.889579478112994)\" padding=\"2px\" fill=\"#f2b600\">released</text><text font-size=\"35\" font-weight=\"normal\" transform=\"translate(389,39) rotate(-4.541820221747148)\" padding=\"2px\" fill=\"#6f00f2\">number</text><text font-size=\"35\" font-weight=\"normal\" transform=\"translate(503,284) rotate(5.9956311992744915)\" padding=\"2px\" fill=\"#00f229\">february</text><text font-size=\"34\" font-weight=\"normal\" transform=\"translate(77,94) rotate(1.2232459224365826)\" padding=\"2px\" fill=\"#f2001d\">song</text><text font-size=\"32\" font-weight=\"normal\" transform=\"translate(269,262) rotate(-6.129601126429689)\" padding=\"2px\" fill=\"#0064f2\">series</text><text font-size=\"32\" font-weight=\"normal\" transform=\"translate(110,262) rotate(-13.48568933782758)\" padding=\"2px\" fill=\"#aaf200\">new</text><text font-size=\"32\" font-weight=\"normal\" transform=\"translate(225,290) rotate(-5.570253484346512)\" padding=\"2px\" fill=\"#f200f1\">tour</text><text font-size=\"31\" font-weight=\"normal\" transform=\"translate(271,349) rotate(1.6962814182388257)\" padding=\"2px\" fill=\"#00f2ac\">singles</text><text font-size=\"30\" font-weight=\"normal\" transform=\"translate(520,146) rotate(-15.733304958813692)\" padding=\"2px\" fill=\"#f26500\">january</text><text font-size=\"30\" font-weight=\"normal\" transform=\"translate(51,173) rotate(14.498611937700673)\" padding=\"2px\" fill=\"#1e00f2\">two</text><text font-size=\"29\" font-weight=\"normal\" transform=\"translate(173,346) rotate(16.19526446114682)\" padding=\"2px\" fill=\"#27f200\">edit</text><text font-size=\"29\" font-weight=\"normal\" transform=\"translate(392,320) rotate(-6.152036715336191)\" padding=\"2px\" fill=\"#f2006e\">back</text><text font-size=\"29\" font-weight=\"normal\" transform=\"translate(356,355) rotate(19.86948609677016)\" padding=\"2px\" fill=\"#00b5f2\">live</text><text font-size=\"29\" font-weight=\"normal\" transform=\"translate(278,31) rotate(-0.03433778319844549)\" padding=\"2px\" fill=\"#f2e800\">charts</text><text font-size=\"29\" font-weight=\"normal\" transform=\"translate(498,187) rotate(-19.417064127718973)\" padding=\"2px\" fill=\"#a100f2\">official</text><text font-size=\"28\" font-weight=\"normal\" transform=\"translate(173,35) rotate(-6.990927769909714)\" padding=\"2px\" fill=\"#00f25b\">may</text><text font-size=\"28\" font-weight=\"normal\" transform=\"translate(506,103) rotate(4.26446817260814)\" padding=\"2px\" fill=\"#f21400\">one</text><text font-size=\"28\" font-weight=\"normal\" transform=\"translate(85,59) rotate(-18.117691203703323)\" padding=\"2px\" fill=\"#0032f2\">twitter</text><text font-size=\"28\" font-weight=\"normal\" transform=\"translate(434,347) rotate(-13.32846287725694)\" padding=\"2px\" fill=\"#78f200\">articles</text><text font-size=\"28\" font-weight=\"normal\" transform=\"translate(107,365) rotate(-7.979028628440279)\" padding=\"2px\" fill=\"#f200bf\">awards</text><text font-size=\"28\" font-weight=\"normal\" transform=\"translate(494,37) rotate(-13.04616788659871)\" padding=\"2px\" fill=\"#00f2de\">chart</text><text font-size=\"28\" font-weight=\"normal\" transform=\"translate(468,311) rotate(11.441486651859563)\" padding=\"2px\" fill=\"#f29700\">love</text><text font-size=\"27\" font-weight=\"normal\" transform=\"translate(531,82) rotate(6.8842285961689775)\" padding=\"2px\" fill=\"#5000f2\">music</text><text font-size=\"26\" font-weight=\"normal\" transform=\"translate(446,368) rotate(-8.939925156285957)\" padding=\"2px\" fill=\"#00f20a\">week</text><text font-size=\"26\" font-weight=\"normal\" transform=\"translate(526,340) rotate(-10.493355578503412)\" padding=\"2px\" fill=\"#f2003c\">original</text><text font-size=\"26\" font-weight=\"normal\" transform=\"translate(280,289) rotate(9.937046869279904)\" padding=\"2px\" fill=\"#0083f2\">syco</text><text font-size=\"26\" font-weight=\"normal\" transform=\"translate(526,369) rotate(4.165363794290215)\" padding=\"2px\" fill=\"#c9f200\">winner</text><text font-size=\"26\" font-weight=\"normal\" transform=\"translate(91,26) rotate(-0.12239765323338148)\" padding=\"2px\" fill=\"#d300f2\">studio</text><text font-size=\"26\" font-weight=\"normal\" transform=\"translate(549,198) rotate(-8.274847593424672)\" padding=\"2px\" fill=\"#00f28d\">april</text><text font-size=\"26\" font-weight=\"normal\" transform=\"translate(109,298) rotate(15.463031954982476)\" padding=\"2px\" fill=\"#f24600\">safe</text><text font-size=\"25\" font-weight=\"normal\" transform=\"translate(551,54) rotate(-17.352746954829144)\" padding=\"2px\" fill=\"#0000f2\">final</text><text font-size=\"25\" font-weight=\"normal\" transform=\"translate(303,375) rotate(-0.6776825532809667)\" padding=\"2px\" fill=\"#46f200\">million</text><text font-size=\"25\" font-weight=\"normal\" transform=\"translate(57,280) rotate(-5.7762521819292445)\" padding=\"2px\" fill=\"#f2008d\">first</text><text font-size=\"24\" font-weight=\"normal\" transform=\"translate(199,372) rotate(-8.72054014751594)\" padding=\"2px\" fill=\"#00d4f2\">top</text><text font-size=\"23\" font-weight=\"normal\" transform=\"translate(161,247) rotate(16.394661886794154)\" padding=\"2px\" fill=\"#f2c900\">let</text><text font-size=\"23\" font-weight=\"normal\" transform=\"translate(250,194) rotate(2.639675441324634)\" padding=\"2px\" fill=\"#8200f2\">go</text><text font-size=\"23\" font-weight=\"normal\" transform=\"translate(289,164) rotate(6.337236859664532)\" padding=\"2px\" fill=\"#00f23c\">th</text><text font-size=\"22\" font-weight=\"normal\" transform=\"translate(54,310) rotate(-7.286091115254845)\" padding=\"2px\" fill=\"#f2000a\">not</text><text font-size=\"22\" font-weight=\"normal\" transform=\"translate(526,313) rotate(-4.743403328520994)\" padding=\"2px\" fill=\"#0051f2\">when</text><text font-size=\"22\" font-weight=\"normal\" transform=\"translate(102,163) rotate(0.23556667306412749)\" padding=\"2px\" fill=\"#97f200\">com</text><text font-size=\"22\" font-weight=\"normal\" transform=\"translate(357,16) rotate(-1.9980860519228543)\" padding=\"2px\" fill=\"#f200de\">cover</text><text font-size=\"22\" font-weight=\"normal\" transform=\"translate(34,125) rotate(2.9816503704062747)\" padding=\"2px\" fill=\"#00f2bf\">lead</text><text font-size=\"22\" font-weight=\"normal\" transform=\"translate(53,203) rotate(4.8436429087619)\" padding=\"2px\" fill=\"#f27800\">wont</text><text font-size=\"22\" font-weight=\"normal\" transform=\"translate(403,153) rotate(-5.183761853760096)\" padding=\"2px\" fill=\"#3100f2\">so</text><text font-size=\"22\" font-weight=\"normal\" transform=\"translate(394,129) rotate(5.649725941241115)\" padding=\"2px\" fill=\"#14f200\">b</text><text font-size=\"22\" font-weight=\"normal\" transform=\"translate(558,259) rotate(15.817875195232048)\" padding=\"2px\" fill=\"#f2005b\">p</text><text font-size=\"22\" font-weight=\"normal\" transform=\"translate(552,111) rotate(2.462041541708089)\" padding=\"2px\" fill=\"#00a2f2\">life</text><text font-size=\"22\" font-weight=\"normal\" transform=\"translate(246,373) rotate(-3.919648105684132)\" padding=\"2px\" fill=\"#e8f200\">say</text><text font-size=\"22\" font-weight=\"normal\" transform=\"translate(373,260) rotate(-15.136687584396462)\" padding=\"2px\" fill=\"#b500f2\">v</text><text font-size=\"22\" font-weight=\"normal\" transform=\"translate(218,15) rotate(4.22837942505587)\" padding=\"2px\" fill=\"#00f26e\">spy</text><text font-size=\"21\" font-weight=\"normal\" transform=\"translate(558,166) rotate(-7.778772418677615)\" padding=\"2px\" fill=\"#f22700\">end</text><text font-size=\"21\" font-weight=\"normal\" transform=\"translate(329,161) rotate(13.97292722554971)\" padding=\"2px\" fill=\"#001ff2\">til</text><text font-size=\"21\" font-weight=\"normal\" transform=\"translate(34,373) rotate(-12.147272824792195)\" padding=\"2px\" fill=\"#65f200\">pop</text><text font-size=\"21\" font-weight=\"normal\" transform=\"translate(148,90) rotate(-13.147988129210697)\" padding=\"2px\" fill=\"#f200ac\">no</text><text font-size=\"21\" font-weight=\"normal\" transform=\"translate(247,174) rotate(6.500541939675266)\" padding=\"2px\" fill=\"#00f2f1\">st</text><text font-size=\"21\" font-weight=\"normal\" transform=\"translate(377,379) rotate(-0.8785148249420587)\" padding=\"2px\" fill=\"#f2aa00\">london</text><text font-size=\"20\" font-weight=\"normal\" transform=\"translate(507,124) rotate(4.22572991296785)\" padding=\"2px\" fill=\"#6400f2\">us</text><text font-size=\"20\" font-weight=\"normal\" transform=\"translate(153,379) rotate(2.9238205286431267)\" padding=\"2px\" fill=\"#00f21d\">itll</text><text font-size=\"20\" font-weight=\"normal\" transform=\"translate(35,40) rotate(11.522020236477193)\" padding=\"2px\" fill=\"#f20029\">link</text><text font-size=\"20\" font-weight=\"normal\" transform=\"translate(550,20) rotate(11.628942698515388)\" padding=\"2px\" fill=\"#0070f2\">deal</text><text font-size=\"20\" font-weight=\"normal\" transform=\"translate(565,239) rotate(10.939036144851322)\" padding=\"2px\" fill=\"#b6f200\">ep</text><text font-size=\"20\" font-weight=\"normal\" transform=\"translate(49,144) rotate(5.426645460843478)\" padding=\"2px\" fill=\"#e700f2\">co</text><text font-size=\"20\" font-weight=\"normal\" transform=\"translate(567,352) rotate(3.772437412488408)\" padding=\"2px\" fill=\"#00f2a0\">sea</text></svg>'\n"
          ]
        }
      ],
      "source": [
        "import requests\n",
        "import json\n",
        "from bs4 import BeautifulSoup\n",
        "import cairosvg\n",
        "from PIL import Image\n",
        "from io import BytesIO\n",
        "\n",
        "\n",
        "# Free Scraping API: ScrapingBee\n",
        "SCRAPINGBEE_API_KEY = \"8JH0QN267TF6EPL0F6W11PFEN1R95SZF1BJ4HKQ02VRIUV53J611FHE5RGPBM8V7K88X3TF239MTL78Q\"\n",
        "scrape_target_url = input(\"Enter the URL to scrape: \").strip()\n",
        "\n",
        "# Step 1: Use ScrapingBee to scrape the content\n",
        "scrapingbee_url = f\"https://app.scrapingbee.com/api/v1/?api_key={SCRAPINGBEE_API_KEY}&url={scrape_target_url}\"\n",
        "scrape_response = requests.get(scrapingbee_url)\n",
        "\n",
        "# Ensure the request was successful\n",
        "if scrape_response.status_code == 200:\n",
        "    # Parse the HTML content using BeautifulSoup\n",
        "    soup = BeautifulSoup(scrape_response.text, \"html.parser\")\n",
        "\n",
        "    # Extract the text content from the webpage\n",
        "    content_text = soup.get_text(separator=\" \", strip=True)\n",
        "\n",
        "    if content_text:\n",
        "        print(\"Scraping completed successfully.\")\n",
        "\n",
        "        # Step 2: Use QuickChart API to generate a word cloud\n",
        "        quickchart_url = \"https://quickchart.io/wordcloud\"\n",
        "\n",
        "        # Prepare the payload for the word cloud generation\n",
        "        wordcloud_payload = {\n",
        "            \"text\": content_text,  # Use the scraped text content\n",
        "            \"width\": 600,  # Width of the word cloud image\n",
        "            \"height\": 400,  # Height of the word cloud image\n",
        "            \"fontScale\": 15,\n",
        "            \"scale\": \"linear\",\n",
        "            \"removeStopwords\": True  # Remove common stop words\n",
        "        }\n",
        "\n",
        "        # Send the request to QuickChart API to generate the word cloud\n",
        "        wordcloud_response = requests.post(quickchart_url, headers={\"Content-Type\": \"application/json\"}, data=json.dumps(wordcloud_payload))\n",
        "\n",
        "        # Check if the word cloud request was successful\n",
        "        if wordcloud_response.status_code == 200:\n",
        "            print(\"Word cloud generated successfully.\", wordcloud_response.content)\n",
        "\n",
        "            png_data = cairosvg.svg2png(bytestring=wordcloud_response.content.decode('utf-8'))\n",
        "\n",
        "            # Load PNG image into PIL Image object\n",
        "            image = Image.open(BytesIO(png_data))\n",
        "\n",
        "            # Show the image\n",
        "            image.save(\"result.png\")\n",
        "        else:\n",
        "            print(f\"Failed to generate word cloud. Status Code: {wordcloud_response.status_code}\")\n",
        "    else:\n",
        "        print(\"No meaningful text found in the scraped content.\")\n",
        "else:\n",
        "    print(f\"Failed to retrieve the webpage. Status Code: {scrape_response.status_code} {scrape_response.content}\")"
      ]
    }
  ]
}
