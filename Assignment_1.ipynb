{
  "nbformat": 4,
  "nbformat_minor": 0,
  "metadata": {
    "colab": {
      "provenance": []
    },
    "kernelspec": {
      "name": "python3",
      "display_name": "Python 3"
    },
    "language_info": {
      "name": "python"
    }
  },
  "cells": [
    {
      "cell_type": "code",
      "source": [
        "!pip install cairosvg"
      ],
      "metadata": {
        "colab": {
          "base_uri": "https://localhost:8080/"
        },
        "id": "x-t3cmdkeGNz",
        "outputId": "5936ca82-1f40-4fbd-af57-917df0bc24d3"
      },
      "execution_count": 27,
      "outputs": [
        {
          "output_type": "stream",
          "name": "stdout",
          "text": [
            "Collecting cairosvg\n",
            "  Downloading CairoSVG-2.7.1-py3-none-any.whl.metadata (2.7 kB)\n",
            "Collecting cairocffi (from cairosvg)\n",
            "  Downloading cairocffi-1.7.1-py3-none-any.whl.metadata (3.3 kB)\n",
            "Collecting cssselect2 (from cairosvg)\n",
            "  Downloading cssselect2-0.7.0-py3-none-any.whl.metadata (2.9 kB)\n",
            "Requirement already satisfied: defusedxml in /usr/local/lib/python3.10/dist-packages (from cairosvg) (0.7.1)\n",
            "Requirement already satisfied: pillow in /usr/local/lib/python3.10/dist-packages (from cairosvg) (10.4.0)\n",
            "Requirement already satisfied: tinycss2 in /usr/local/lib/python3.10/dist-packages (from cairosvg) (1.3.0)\n",
            "Requirement already satisfied: cffi>=1.1.0 in /usr/local/lib/python3.10/dist-packages (from cairocffi->cairosvg) (1.17.1)\n",
            "Requirement already satisfied: webencodings in /usr/local/lib/python3.10/dist-packages (from cssselect2->cairosvg) (0.5.1)\n",
            "Requirement already satisfied: pycparser in /usr/local/lib/python3.10/dist-packages (from cffi>=1.1.0->cairocffi->cairosvg) (2.22)\n",
            "Downloading CairoSVG-2.7.1-py3-none-any.whl (43 kB)\n",
            "\u001b[2K   \u001b[90m━━━━━━━━━━━━━━━━━━━━━━━━━━━━━━━━━━━━━━━━\u001b[0m \u001b[32m43.2/43.2 kB\u001b[0m \u001b[31m3.1 MB/s\u001b[0m eta \u001b[36m0:00:00\u001b[0m\n",
            "\u001b[?25hDownloading cairocffi-1.7.1-py3-none-any.whl (75 kB)\n",
            "\u001b[2K   \u001b[90m━━━━━━━━━━━━━━━━━━━━━━━━━━━━━━━━━━━━━━━━\u001b[0m \u001b[32m75.6/75.6 kB\u001b[0m \u001b[31m7.1 MB/s\u001b[0m eta \u001b[36m0:00:00\u001b[0m\n",
            "\u001b[?25hDownloading cssselect2-0.7.0-py3-none-any.whl (15 kB)\n",
            "Installing collected packages: cssselect2, cairocffi, cairosvg\n",
            "Successfully installed cairocffi-1.7.1 cairosvg-2.7.1 cssselect2-0.7.0\n"
          ]
        }
      ]
    },
    {
      "cell_type": "code",
      "source": [
        "import requests\n",
        "import json\n",
        "from bs4 import BeautifulSoup\n",
        "import cairosvg\n",
        "from PIL import Image\n",
        "from io import BytesIO\n",
        "\n",
        "\n",
        "# Free Scraping API: ScrapingBee\n",
        "SCRAPINGBEE_API_KEY = \"8JH0QN267TF6EPL0F6W11PFEN1R95SZF1BJ4HKQ02VRIUV53J611FHE5RGPBM8V7K88X3TF239MTL78Q\"\n",
        "scrape_target_url = input(\"Enter the URL to scrape: \").strip()\n",
        "\n",
        "# Step 1: Use ScrapingBee to scrape the content\n",
        "scrapingbee_url = f\"https://app.scrapingbee.com/api/v1/?api_key={SCRAPINGBEE_API_KEY}&url={scrape_target_url}\"\n",
        "scrape_response = requests.get(scrapingbee_url)\n",
        "\n",
        "# Ensure the request was successful\n",
        "if scrape_response.status_code == 200:\n",
        "    # Parse the HTML content using BeautifulSoup\n",
        "    soup = BeautifulSoup(scrape_response.text, \"html.parser\")\n",
        "\n",
        "    # Extract the text content from the webpage\n",
        "    content_text = soup.get_text(separator=\" \", strip=True)\n",
        "\n",
        "    if content_text:\n",
        "        print(\"Scraping completed successfully.\")\n",
        "\n",
        "        # Step 2: Use QuickChart API to generate a word cloud\n",
        "        quickchart_url = \"https://quickchart.io/wordcloud\"\n",
        "\n",
        "        # Prepare the payload for the word cloud generation\n",
        "        wordcloud_payload = {\n",
        "            \"text\": content_text,  # Use the scraped text content\n",
        "            \"width\": 600,  # Width of the word cloud image\n",
        "            \"height\": 400,  # Height of the word cloud image\n",
        "            \"fontScale\": 15,\n",
        "            \"scale\": \"linear\",\n",
        "            \"removeStopwords\": True  # Remove common stop words\n",
        "        }\n",
        "\n",
        "        # Send the request to QuickChart API to generate the word cloud\n",
        "        wordcloud_response = requests.post(quickchart_url, headers={\"Content-Type\": \"application/json\"}, data=json.dumps(wordcloud_payload))\n",
        "\n",
        "        # Check if the word cloud request was successful\n",
        "        if wordcloud_response.status_code == 200:\n",
        "            print(\"Word cloud generated successfully.\", wordcloud_response.content)\n",
        "            try:\n",
        "              wordcloud_result = wordcloud_response.json()\n",
        "              wordcloud_image_url = wordcloud_result.get(\"url\", \"\")\n",
        "              print(f\"Word Cloud Image URL: {wordcloud_image_url}\")\n",
        "            except Exception as e:\n",
        "              png_data = cairosvg.svg2png(bytestring=wordcloud_response.content.decode('utf-8'))\n",
        "\n",
        "              # Load PNG image into PIL Image object\n",
        "              image = Image.open(BytesIO(png_data))\n",
        "\n",
        "              # Show the image\n",
        "              image.save(\"result.png\")\n",
        "        else:\n",
        "            print(f\"Failed to generate word cloud. Status Code: {wordcloud_response.status_code}\")\n",
        "    else:\n",
        "        print(\"No meaningful text found in the scraped content.\")\n",
        "else:\n",
        "    print(f\"Failed to retrieve the webpage. Status Code: {scrape_response.status_code} {scrape_response.content}\")\n"
      ],
      "metadata": {
        "colab": {
          "base_uri": "https://localhost:8080/"
        },
        "id": "Re2dgULwV7Lr",
        "outputId": "b275ff53-56ad-40fb-dff1-1aab2554a98e"
      },
      "execution_count": 33,
      "outputs": [
        {
          "output_type": "stream",
          "name": "stdout",
          "text": [
            "Enter the URL to scrape: https://en.wikipedia.org/wiki/Amharic\n",
            "Scraping completed successfully.\n",
            "Word cloud generated successfully. b'<svg xmlns=\"http://www.w3.org/2000/svg\" width=\"600\" height=\"400\" font-family=\"serif\" text-anchor=\"middle\"><text font-size=\"100\" font-weight=\"normal\" transform=\"translate(297,190) rotate(-19.492552373360255)\" padding=\"2px\" fill=\"#00d3f2\">amharic</text><text font-size=\"43\" font-weight=\"normal\" transform=\"translate(460,207) rotate(15.754846170559858)\" padding=\"2px\" fill=\"#f2c900\">language</text><text font-size=\"43\" font-weight=\"normal\" transform=\"translate(443,287) rotate(0.37184427569246736)\" padding=\"2px\" fill=\"#8300f2\">semitic</text><text font-size=\"42\" font-weight=\"normal\" transform=\"translate(176,133) rotate(-3.803944567759217)\" padding=\"2px\" fill=\"#00f23c\">languages</text><text font-size=\"40\" font-weight=\"normal\" transform=\"translate(191,100) rotate(-8.272968851140545)\" padding=\"2px\" fill=\"#f2000a\">edit</text><text font-size=\"36\" font-weight=\"normal\" transform=\"translate(283,237) rotate(-4.460600319300312)\" padding=\"2px\" fill=\"#0050f2\">ethiopia</text><text font-size=\"33\" font-weight=\"normal\" transform=\"translate(211,283) rotate(-15.471891378647475)\" padding=\"2px\" fill=\"#97f200\">ethiopian</text><text font-size=\"32\" font-weight=\"normal\" transform=\"translate(148,275) rotate(15.747502357812664)\" padding=\"2px\" fill=\"#f200de\">e</text><text font-size=\"31\" font-weight=\"normal\" transform=\"translate(336,297) rotate(-14.208627396545026)\" padding=\"2px\" fill=\"#00f2bf\">isbn</text><text font-size=\"29\" font-weight=\"normal\" transform=\"translate(347,208) rotate(19.039379209452278)\" padding=\"2px\" fill=\"#f27800\">plural</text><text font-size=\"28\" font-weight=\"normal\" transform=\"translate(471,168) rotate(8.436648421083888)\" padding=\"2px\" fill=\"#3200f2\">pronouns</text><text font-size=\"28\" font-weight=\"normal\" transform=\"translate(266,95) rotate(6.672343734486876)\" padding=\"2px\" fill=\"#14f200\">nouns</text><text font-size=\"26\" font-weight=\"normal\" transform=\"translate(403,213) rotate(-8.604234016697712)\" padding=\"2px\" fill=\"#f2005b\">m</text><text font-size=\"26\" font-weight=\"normal\" transform=\"translate(121,167) rotate(2.328788875177139)\" padding=\"2px\" fill=\"#00a1f2\">university</text><text font-size=\"26\" font-weight=\"normal\" transform=\"translate(187,321) rotate(13.0323366333242)\" padding=\"2px\" fill=\"#e8f200\">noun</text><text font-size=\"26\" font-weight=\"normal\" transform=\"translate(124,187) rotate(-5.756258840588648)\" padding=\"2px\" fill=\"#b500f2\">u</text><text font-size=\"26\" font-weight=\"normal\" transform=\"translate(125,90) rotate(-10.885354539643846)\" padding=\"2px\" fill=\"#00f26e\">press</text><text font-size=\"25\" font-weight=\"normal\" transform=\"translate(338,260) rotate(15.485112711858974)\" padding=\"2px\" fill=\"#f22700\">used</text><text font-size=\"25\" font-weight=\"normal\" transform=\"translate(278,122) rotate(-0.9024065087795279)\" padding=\"2px\" fill=\"#001ef2\">t</text><text font-size=\"25\" font-weight=\"normal\" transform=\"translate(440,243) rotate(-16.88037613721069)\" padding=\"2px\" fill=\"#65f200\">singular</text><text font-size=\"25\" font-weight=\"normal\" transform=\"translate(252,292) rotate(-19.891016902623626)\" padding=\"2px\" fill=\"#f200ac\">pp</text><text font-size=\"25\" font-weight=\"normal\" transform=\"translate(291,322) rotate(5.785082397337938)\" padding=\"2px\" fill=\"#00f2f1\">retrieved</text><text font-size=\"25\" font-weight=\"normal\" transform=\"translate(513,146) rotate(-2.7853260264877093)\" padding=\"2px\" fill=\"#f2aa00\">english</text><text font-size=\"25\" font-weight=\"normal\" transform=\"translate(320,119) rotate(-3.012987829487706)\" padding=\"2px\" fill=\"#6400f2\">proto</text><text font-size=\"25\" font-weight=\"normal\" transform=\"translate(428,226) rotate(-11.584819718232247)\" padding=\"2px\" fill=\"#00f21d\">b</text><text font-size=\"24\" font-weight=\"normal\" transform=\"translate(83,190) rotate(11.579440002608045)\" padding=\"2px\" fill=\"#f20029\">forms</text><text font-size=\"24\" font-weight=\"normal\" transform=\"translate(396,310) rotate(-5.184995512229351)\" padding=\"2px\" fill=\"#006ff2\">script</text><text font-size=\"24\" font-weight=\"normal\" transform=\"translate(261,66) rotate(0.07172623175626569)\" padding=\"2px\" fill=\"#b6f200\">person</text><text font-size=\"24\" font-weight=\"normal\" transform=\"translate(499,124) rotate(-5.70120563452944)\" padding=\"2px\" fill=\"#e700f2\">gender</text><text font-size=\"24\" font-weight=\"normal\" transform=\"translate(476,315) rotate(7.022464108255839)\" padding=\"2px\" fill=\"#00f2a0\">suffixes</text><text font-size=\"24\" font-weight=\"normal\" transform=\"translate(299,274) rotate(-11.161142291725268)\" padding=\"2px\" fill=\"#f25900\">one</text><text font-size=\"24\" font-weight=\"normal\" transform=\"translate(184,261) rotate(-1.394568021394626)\" padding=\"2px\" fill=\"#1300f2\">f</text><text font-size=\"24\" font-weight=\"normal\" transform=\"translate(88,217) rotate(8.251581104555736)\" padding=\"2px\" fill=\"#33f200\">house</text><text font-size=\"23\" font-weight=\"normal\" transform=\"translate(119,262) rotate(-16.901613175267496)\" padding=\"2px\" fill=\"#f2007a\">not</text><text font-size=\"23\" font-weight=\"normal\" transform=\"translate(343,92) rotate(18.808500157069084)\" padding=\"2px\" fill=\"#00c0f2\">south</text><text font-size=\"23\" font-weight=\"normal\" transform=\"translate(103,288) rotate(-13.966666216234822)\" padding=\"2px\" fill=\"#f2dc00\">second</text><text font-size=\"23\" font-weight=\"normal\" transform=\"translate(397,334) rotate(-9.142605741620438)\" padding=\"2px\" fill=\"#9600f2\">vowel</text><text font-size=\"23\" font-weight=\"normal\" transform=\"translate(537,250) rotate(-8.416885551981439)\" padding=\"2px\" fill=\"#00f24f\">object</text><text font-size=\"23\" font-weight=\"normal\" transform=\"translate(86,248) rotate(-13.336452730541577)\" padding=\"2px\" fill=\"#f20800\">def</text><text font-size=\"23\" font-weight=\"normal\" transform=\"translate(160,66) rotate(-1.411194383136241)\" padding=\"2px\" fill=\"#003df2\">article</text><text font-size=\"23\" font-weight=\"normal\" transform=\"translate(339,350) rotate(-17.22336147741067)\" padding=\"2px\" fill=\"#84f200\">form</text><text font-size=\"23\" font-weight=\"normal\" transform=\"translate(495,98) rotate(-16.23603583982577)\" padding=\"2px\" fill=\"#f200cb\">cushitic</text><text font-size=\"23\" font-weight=\"normal\" transform=\"translate(204,257) rotate(4.474237364578819)\" padding=\"2px\" fill=\"#00f2d2\">g</text><text font-size=\"23\" font-weight=\"normal\" transform=\"translate(367,185) rotate(-13.165866452527855)\" padding=\"2px\" fill=\"#f28b00\">p</text><text font-size=\"23\" font-weight=\"normal\" transform=\"translate(59,104) rotate(-2.7390058076939994)\" padding=\"2px\" fill=\"#4500f2\">words</text><text font-size=\"23\" font-weight=\"normal\" transform=\"translate(370,243) rotate(-12.166230829345475)\" padding=\"2px\" fill=\"#01f200\">bet</text><text font-size=\"23\" font-weight=\"normal\" transform=\"translate(108,322) rotate(6.351885590443818)\" padding=\"2px\" fill=\"#f20048\">feminine</text><text font-size=\"23\" font-weight=\"normal\" transform=\"translate(326,68) rotate(0.12211848606408182)\" padding=\"2px\" fill=\"#008ef2\">o\\xc4\\x8d\\xc4\\x8d</text><text font-size=\"22\" font-weight=\"normal\" transform=\"translate(412,79) rotate(7.0971752146530065)\" padding=\"2px\" fill=\"#d5f200\">grammar</text><text font-size=\"22\" font-weight=\"normal\" transform=\"translate(50,137) rotate(-8.209107391143382)\" padding=\"2px\" fill=\"#c800f2\">jewish</text><text font-size=\"22\" font-weight=\"normal\" transform=\"translate(391,355) rotate(-8.688851921002225)\" padding=\"2px\" fill=\"#00f281\">may</text><text font-size=\"22\" font-weight=\"normal\" transform=\"translate(262,343) rotate(19.59825036114863)\" padding=\"2px\" fill=\"#f23a00\">speakers</text><text font-size=\"22\" font-weight=\"normal\" transform=\"translate(263,44) rotate(7.194963004843132)\" padding=\"2px\" fill=\"#000bf2\">suffix</text><text font-size=\"22\" font-weight=\"normal\" transform=\"translate(224,29) rotate(-18.943732573879693)\" padding=\"2px\" fill=\"#52f200\">writing</text><text font-size=\"22\" font-weight=\"normal\" transform=\"translate(195,349) rotate(5.661082509170363)\" padding=\"2px\" fill=\"#f20099\">system</text><text font-size=\"22\" font-weight=\"normal\" transform=\"translate(217,156) rotate(-6.645722546492143)\" padding=\"2px\" fill=\"#00dff2\">use</text><text font-size=\"22\" font-weight=\"normal\" transform=\"translate(65,65) rotate(10.183096833588685)\" padding=\"2px\" fill=\"#f2be00\">adjectives</text><text font-size=\"22\" font-weight=\"normal\" transform=\"translate(141,47) rotate(-10.309268639441385)\" padding=\"2px\" fill=\"#7700f2\">number</text><text font-size=\"22\" font-weight=\"normal\" transform=\"translate(217,370) rotate(-0.1541590657400178)\" padding=\"2px\" fill=\"#00f230\">example</text><text font-size=\"22\" font-weight=\"normal\" transform=\"translate(50,272) rotate(-9.268255128344336)\" padding=\"2px\" fill=\"#f20016\">verb</text><text font-size=\"22\" font-weight=\"normal\" transform=\"translate(134,27) rotate(-11.272134548769142)\" padding=\"2px\" fill=\"#005cf2\">masculine</text><text font-size=\"22\" font-weight=\"normal\" transform=\"translate(349,372) rotate(18.17212356664318)\" padding=\"2px\" fill=\"#a3f200\">sg</text><text font-size=\"22\" font-weight=\"normal\" transform=\"translate(103,345) rotate(10.499596607724833)\" padding=\"2px\" fill=\"#f200ea\">studies</text><text font-size=\"21\" font-weight=\"normal\" transform=\"translate(402,52) rotate(18.47023847120198)\" padding=\"2px\" fill=\"#00f2b3\">adjective</text><text font-size=\"21\" font-weight=\"normal\" transform=\"translate(325,43) rotate(-4.119174229738398)\" padding=\"2px\" fill=\"#f26d00\">arabic</text><text font-size=\"21\" font-weight=\"normal\" transform=\"translate(493,248) rotate(-11.794639032353977)\" padding=\"2px\" fill=\"#2600f2\">h</text><text font-size=\"21\" font-weight=\"normal\" transform=\"translate(208,305) rotate(7.500919720707078)\" padding=\"2px\" fill=\"#20f200\">lit</text><text font-size=\"21\" font-weight=\"normal\" transform=\"translate(547,198) rotate(18.371398170845794)\" padding=\"2px\" fill=\"#f20067\">east</text><text font-size=\"21\" font-weight=\"normal\" transform=\"translate(463,343) rotate(0.6731784690777864)\" padding=\"2px\" fill=\"#00adf2\">articles</text><text font-size=\"21\" font-weight=\"normal\" transform=\"translate(475,52) rotate(19.759800725955955)\" padding=\"2px\" fill=\"#f2f000\">examples</text><text font-size=\"21\" font-weight=\"normal\" transform=\"translate(302,24) rotate(-4.529780871612408)\" padding=\"2px\" fill=\"#a900f2\">see</text><text font-size=\"21\" font-weight=\"normal\" transform=\"translate(121,370) rotate(9.838033383926408)\" padding=\"2px\" fill=\"#00f262\">central</text><text font-size=\"21\" font-weight=\"normal\" transform=\"translate(293,205) rotate(3.9002383688427216)\" padding=\"2px\" fill=\"#f21c00\">ipa</text><text font-size=\"21\" font-weight=\"normal\" transform=\"translate(504,362) rotate(-14.236998504307534)\" padding=\"2px\" fill=\"#002af2\">official</text><text font-size=\"21\" font-weight=\"normal\" transform=\"translate(545,273) rotate(-14.84158223320728)\" padding=\"2px\" fill=\"#71f200\">using</text><text font-size=\"21\" font-weight=\"normal\" transform=\"translate(524,46) rotate(18.399333658226773)\" padding=\"2px\" fill=\"#f200b8\">consonant</text><text font-size=\"21\" font-weight=\"normal\" transform=\"translate(265,18) rotate(16.844831687340893)\" padding=\"2px\" fill=\"#00f2e5\">th</text><text font-size=\"21\" font-weight=\"normal\" transform=\"translate(290,256) rotate(-3.1146600447316786)\" padding=\"2px\" fill=\"#f29f00\">w</text><text font-size=\"21\" font-weight=\"normal\" transform=\"translate(365,22) rotate(6.135550152565983)\" padding=\"2px\" fill=\"#5800f2\">israel</text><text font-size=\"21\" font-weight=\"normal\" transform=\"translate(407,29) rotate(19.650822702606455)\" padding=\"2px\" fill=\"#00f211\">l\\xc7\\x9d\\xc7\\xa7</text><text font-size=\"21\" font-weight=\"normal\" transform=\"translate(53,22) rotate(-7.411622813127323)\" padding=\"2px\" fill=\"#f20034\">third</text><text font-size=\"21\" font-weight=\"normal\" transform=\"translate(283,295) rotate(4.124103620969393)\" padding=\"2px\" fill=\"#007bf2\">acc</text><text font-size=\"21\" font-weight=\"normal\" transform=\"translate(140,105) rotate(3.6262386619266636)\" padding=\"2px\" fill=\"#c2f200\">vs</text><text font-size=\"20\" font-weight=\"normal\" transform=\"translate(409,374) rotate(-11.859552053449463)\" padding=\"2px\" fill=\"#db00f2\">gerund</text><text font-size=\"20\" font-weight=\"normal\" transform=\"translate(549,310) rotate(-16.95020109639892)\" padding=\"2px\" fill=\"#00f294\">geez</text><text font-size=\"20\" font-weight=\"normal\" transform=\"translate(46,164) rotate(-11.834187137480718)\" padding=\"2px\" fill=\"#f24e00\">afro</text><text font-size=\"20\" font-weight=\"normal\" transform=\"translate(54,357) rotate(-3.8886571629583067)\" padding=\"2px\" fill=\"#0700f2\">ge\\xca\\xbdez</text><text font-size=\"20\" font-weight=\"normal\" transform=\"translate(471,82) rotate(6.597103518829222)\" padding=\"2px\" fill=\"#3ff200\">its</text><text font-size=\"20\" font-weight=\"normal\" transform=\"translate(276,374) rotate(8.00793883188404)\" padding=\"2px\" fill=\"#f20085\">wa</text><text font-size=\"20\" font-weight=\"normal\" transform=\"translate(189,162) rotate(5.158070185749139)\" padding=\"2px\" fill=\"#00ccf2\">s</text><text font-size=\"20\" font-weight=\"normal\" transform=\"translate(317,100) rotate(3.186175937807299)\" padding=\"2px\" fill=\"#f2d100\">\\xc9\\x99</text><text font-size=\"20\" font-weight=\"normal\" transform=\"translate(355,316) rotate(-19.716700525681716)\" padding=\"2px\" fill=\"#8a00f2\">\\xc3\\xa4</text><text font-size=\"20\" font-weight=\"normal\" transform=\"translate(520,19) rotate(6.092978479202273)\" padding=\"2px\" fill=\"#00f243\">subject</text><text font-size=\"20\" font-weight=\"normal\" transform=\"translate(543,379) rotate(-3.440337190566545)\" padding=\"2px\" fill=\"#f20002\">almaz</text><text font-size=\"20\" font-weight=\"normal\" transform=\"translate(557,170) rotate(-19.324877898834334)\" padding=\"2px\" fill=\"#0049f2\">two</text><text font-size=\"20\" font-weight=\"normal\" transform=\"translate(557,113) rotate(-4.18552554296828)\" padding=\"2px\" fill=\"#90f200\">y\\xc3\\xa4</text><text font-size=\"20\" font-weight=\"normal\" transform=\"translate(563,84) rotate(1.6854651614887395)\" padding=\"2px\" fill=\"#f200d6\">ethio</text><text font-size=\"20\" font-weight=\"normal\" transform=\"translate(35,202) rotate(-12.19127034337637)\" padding=\"2px\" fill=\"#00f2c6\">boy</text><text font-size=\"20\" font-weight=\"normal\" transform=\"translate(311,377) rotate(5.865614740453324)\" padding=\"2px\" fill=\"#f28000\">awi</text><text font-size=\"19\" font-weight=\"normal\" transform=\"translate(553,341) rotate(6.39369417718693)\" padding=\"2px\" fill=\"#3900f2\">first</text><text font-size=\"19\" font-weight=\"normal\" transform=\"translate(45,234) rotate(0.831037765108551)\" padding=\"2px\" fill=\"#0df200\">state</text><text font-size=\"19\" font-weight=\"normal\" transform=\"translate(44,302) rotate(16.66517403389421)\" padding=\"2px\" fill=\"#f20053\">old</text><text font-size=\"19\" font-weight=\"normal\" transform=\"translate(49,338) rotate(-7.367795139320297)\" padding=\"2px\" fill=\"#009af2\">set</text><text font-size=\"19\" font-weight=\"normal\" transform=\"translate(456,18) rotate(-1.6686273162167886)\" padding=\"2px\" fill=\"#e1f200\">\\xc3\\xa4\\xc3\\xb1\\xc3\\xb1a</text><text font-size=\"19\" font-weight=\"normal\" transform=\"translate(37,382) rotate(1.0102314927922578)\" padding=\"2px\" fill=\"#bc00f2\">big</text><text font-size=\"19\" font-weight=\"normal\" transform=\"translate(37,83) rotate(-15.163326924202556)\" padding=\"2px\" fill=\"#00f275\">com</text><text font-size=\"19\" font-weight=\"normal\" transform=\"translate(275,169) rotate(13.725066365333866)\" padding=\"2px\" fill=\"#f22f00\">l</text><text font-size=\"19\" font-weight=\"normal\" transform=\"translate(127,302) rotate(-15.719480404671362)\" padding=\"2px\" fill=\"#0017f2\">etc</text><text font-size=\"19\" font-weight=\"normal\" transform=\"translate(395,235) rotate(-15.494089759672223)\" padding=\"2px\" fill=\"#5ef200\">d</text><text font-size=\"19\" font-weight=\"normal\" transform=\"translate(201,62) rotate(15.574761159548046)\" padding=\"2px\" fill=\"#f200a4\">j</text><text font-size=\"19\" font-weight=\"normal\" transform=\"translate(353,187) rotate(-5.3649515206498055)\" padding=\"2px\" fill=\"#00ebf2\">c</text><text font-size=\"19\" font-weight=\"normal\" transform=\"translate(456,367) rotate(-11.774581225941976)\" padding=\"2px\" fill=\"#f2b200\">ed</text><text font-size=\"18\" font-weight=\"normal\" transform=\"translate(562,361) rotate(1.60095399425024)\" padding=\"2px\" fill=\"#6b00f2\">west</text><text font-size=\"18\" font-weight=\"normal\" transform=\"translate(207,238) rotate(8.162676868218028)\" padding=\"2px\" fill=\"#00f224\">k</text><text font-size=\"18\" font-weight=\"normal\" transform=\"translate(72,381) rotate(2.6741251944412596)\" padding=\"2px\" fill=\"#f20021\">red</text><text font-size=\"18\" font-weight=\"normal\" transform=\"translate(567,225) rotate(19.227312670357293)\" padding=\"2px\" fill=\"#0068f2\">sea</text><text font-size=\"18\" font-weight=\"normal\" transform=\"translate(385,148) rotate(8.966076613930287)\" padding=\"2px\" fill=\"#aff200\">n</text><text font-size=\"18\" font-weight=\"normal\" transform=\"translate(229,196) rotate(10.710880635914897)\" padding=\"2px\" fill=\"#ee00f2\">r</text><text font-size=\"18\" font-weight=\"normal\" transform=\"translate(426,116) rotate(13.421154414490523)\" padding=\"2px\" fill=\"#00f2a7\">\\xc9\\xa8</text><text font-size=\"18\" font-weight=\"normal\" transform=\"translate(166,258) rotate(15.699058998945446)\" padding=\"2px\" fill=\"#f26100\">\\xc7\\x9dn</text></svg>'\n"
          ]
        }
      ]
    }
  ]
}